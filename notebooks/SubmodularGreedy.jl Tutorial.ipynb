{
 "cells": [
  {
   "cell_type": "markdown",
   "metadata": {},
   "source": [
    "# SubmodularGreedy.jl Tutorial\n",
    "\n",
    "This Jupyter notebook contains a tutorial for the `SubmodularGreedy.jl` package, available [here](https://github.com/crharshaw/SubmodularGreedy.jl).\n",
    "In this tutorial, you will learn how to \n",
    "\n",
    "1. Create function and independence oracles required for `SubmodularGreedy.jl`\n",
    "2. Call basic versions of the Greedy, RepeatedGreedy, SimultaneousGreedy, and SampleGreedy algorithms.\n",
    "3. Call the variants that run in linear time and handle knapsack constriaints.\n",
    "4. Apply the package to a problem with real data: Movie Recommendation\n",
    "\n",
    "## Table of Contents\n",
    "\n",
    "1. A brief introduction to submodular optimization\n",
    "2. Installing and loading the package\n",
    "3. Running the algorithms on the simple instance\n",
    "4. Automatic parameter tuning\n",
    "5. Linear time implementation\n",
    "6. Knapsack constraints\n",
    "7. Movie Recommendation: a problem instance with real data"
   ]
  },
  {
   "cell_type": "markdown",
   "metadata": {},
   "source": [
    "## A brief introduction to submodular optimization\n",
    "\n",
    "**Note** If you are familiar with submodular optimization, you can skip this section; otherwise, please read on.\n",
    "\n",
    "We begin by describing the mathematical formalization of submodular optimization. \n",
    "Let $\\mathcal{N}$ be a finite set of size $n$ known as the *ground set*.\n",
    "Without loss of generality, we may consider the ground set to be integers $\\mathcal{N} = \\{ 1, 2, \\dots n\\}$.\n",
    "We consider a function $f: 2^{\\mathcal{N}} \\rightarrow \\mathbb{R}$ defined on subsets of the ground set, which will serve as our objective.\n",
    "A function $f$ is submodular if it satisfies the diminishing returns property,\n",
    "\n",
    "$$\n",
    "f(A \\cup \\{e\\}) - f(A) \\geq f(B \\cup \\{e\\}) - f(B) \\quad \\text{ for all } A \\subset B \\subset \\mathcal{N}, e \\notin B.\n",
    "$$\n",
    "\n",
    "We write the marignal gain of adding element $e$ to set $A$ as $f(e \\mid A) = f(A \\cup \\{e\\}) - f(A)$.\n",
    "\n",
    "Our constraints are given by an *independence system* denoted $(\\mathcal{N}, \\mathcal{I})$, where $\\mathcal{I} \\subset \\mathcal{N}$.\n",
    "The pair $(\\mathcal{N}, \\mathcal{I})$ forms an independence system if it satisfies the down-closed property that \n",
    "\n",
    "$$\n",
    "A \\in \\mathcal{I} \\text{ and } B \\subset A \\text{ implies that } B \\in \\mathcal{I}.\n",
    "$$\n",
    "\n",
    "The submodular maximization problem is to find a feasible set $S \\in \\mathcal{I}$ which maximizes the objective $f(S)$; formally, \n",
    "\n",
    "$$\n",
    "\\max_{S \\in \\mathcal{I}} f(S) \\enspace.\n",
    "$$\n",
    "\n",
    "The `SubmodularGreedy.jl` package contains fast implementations of greedy-based algorithms to solve the problem above.\n",
    "\n",
    "A priori, the objective function and the constraint set could have an exponentially large description size, which would preclude any reasonably fast algorithm for optimization.\n",
    "For this reason, the vast majority of the literature on submodular optimization assumes *oracle access* to the objective function and the independence system.\n",
    "That is, it is assumed that an algorithm for submodular optimization has access to two subroutines:\n",
    "\n",
    "1. **Value Oracle**: Given $S \\subset \\mathcal{N}$, return the value $f(S)$\n",
    "2. **Independence Oracle** Given $S \\subset \\mathcal{N}$ return `true` if $S \\in \\mathcal{I}$ and `false` otherwise.\n",
    "\n",
    "All algorithms in this package are greedy-based algorithms and so we will actually only need the following two oracles, which are usually cheaper to implement:\n",
    "\n",
    "1. **Marginal Gain Oracle**: Given $S \\subset \\mathcal{N}$ and $e \\in \\mathcal{N}$, return the value of the marginal gain $f(e \\mid A)$.\n",
    "2. **Marginal Independence Oracle**: Given $S \\in \\mathcal{I}$ and $e \\in \\mathcal{N}$, return `true` if $S \\cup \\{e\\} \\in \\mathcal{I}$ and `false` otherwise.\n",
    "\n",
    "When using the `SubmodularGreedy.jl` package, the user will provide the two oracles above.\n",
    "Faster implementation of these oracles will yield to faster runtimes of the greedy algorithms provided in this package.\n",
    "In this next section of code, we will see examples of how to code these oracles."
   ]
  },
  {
   "cell_type": "markdown",
   "metadata": {},
   "source": [
    "## Installing and loading the package\n",
    "\n",
    "To begin, you should have installed the `SubmodularGreedy.jl` package.\n",
    "See the directions on the GitHub page [here](https://github.com/crharshaw/SubmodularGreedy.jl) to see how to do this.\n",
    "\n",
    "Once you have installed the package, you can load it using the following command."
   ]
  },
  {
   "cell_type": "code",
   "execution_count": 1,
   "metadata": {},
   "outputs": [],
   "source": [
    "using SubmodularGreedy"
   ]
  },
  {
   "cell_type": "markdown",
   "metadata": {},
   "source": [
    "We also include several other packages which will be helpful when we get to the "
   ]
  },
  {
   "cell_type": "code",
   "execution_count": 2,
   "metadata": {},
   "outputs": [],
   "source": [
    "using Random\n",
    "using JLD2\n",
    "using DataFrames\n",
    "using LinearAlgebra"
   ]
  },
  {
   "cell_type": "markdown",
   "metadata": {},
   "source": [
    "## Running the algorithms on the simple instance\n",
    "\n",
    "We begin the tutorial by demonstrating how to run the greedy optimization algorithms in `SubmodularGreedy.jl` on the following simple problem instance:\n",
    "\n",
    "$$\n",
    "\\max_{|S| \\leq k} f(S) \\triangleq \\sum_{e \\in S} c_e + \\frac{1}{n} \\sqrt{|S|} \\enspace,\n",
    "$$\n",
    "\n",
    "where the coefficients are given by $c_e = e$, i.e. $c_1 = 1$, $c_2 = 2$, etc.\n",
    "This function is the sum of a modular function and a concave function, where the concave part contributes only a very small fraction of the overall value.\n",
    "In this sense, the function is essentially modular.\n",
    "\n",
    "We are using this function in the tutorial because it is simple enough that one can reason about the execution path of the various algorithms in the package.\n",
    "In particular, the element with largest marginal gain will always be the element with the largest index; in the case of Simultaneous Greedy, the element-solution pair with largest marginal gain will be the element with largest index and the solution with fewest elements."
   ]
  },
  {
   "cell_type": "markdown",
   "metadata": {},
   "source": [
    "### Creating function and independence oracles\n",
    "\n",
    "The ground set $\\mathcal{N}$ is always specified as an array of integers.\n",
    "\n",
    "A priori, the objective function $f(S)$ and the independence system $(\\mathcal{N}, \\mathcal{I})$ could have an exponentially large description size, which would preclude any reasonably fast algorithm for optimization.\n",
    "For this reason, the vast majority of the literature on submodular optimization assumes *oracle access* to the objective function and the independence system.\n",
    "That is, it is assumed that an algorithm for submodular optimization has access to two subroutines:\n",
    "\n",
    "1. **Value Oracle**: Given $S \\subset \\mathcal{N}$, return the value $f(S)$\n",
    "2. **Independence Oracle** Given $S \\subset \\mathcal{N}$ return `true` if $S \\in \\mathcal{I}$ and `false` otherwise.\n",
    "\n",
    "All algorithms in this package are greedy-based algorithms and so we will actually only need the following two oracles, which are usually cheaper to implement:\n",
    "\n",
    "1. **Marginal Gain Oracle**: Given $S \\subset \\mathcal{N}$ and $e \\in \\mathcal{N}$, return the value of the marginal gain $f(e \\mid A)$.\n",
    "2. **Marginal Independence Oracle**: Given $S \\in \\mathcal{I}$ and $e \\in \\mathcal{N}$, return `true` if $S \\cup \\{e\\} \\in \\mathcal{I}$ and `false` otherwise.\n",
    "\n",
    "When using the `SubmodularGreedy.jl` package, the user will provide the two oracles above.\n",
    "Faster implementation of these oracles will yield to faster runtimes of the greedy algorithms provided in this package.\n",
    "In this next section of code, we will see examples of how to code these oracles."
   ]
  },
  {
   "cell_type": "markdown",
   "metadata": {},
   "source": [
    "### A simple objective: linear plus concave\n",
    "\n",
    "Let's begin by implementing a value oracle for the objective function,\n",
    "\n",
    "$$\n",
    "f(S) = \\sum_{e \\in S} c_e + \\frac{1}{n} \\cdot \\sqrt{|S|} \\enspace.\n",
    "$$"
   ]
  },
  {
   "cell_type": "code",
   "execution_count": 3,
   "metadata": {},
   "outputs": [
    {
     "data": {
      "text/plain": [
       "simple_obj (generic function with 1 method)"
      ]
     },
     "execution_count": 3,
     "metadata": {},
     "output_type": "execute_result"
    }
   ],
   "source": [
    "function simple_obj(S::Set{Int64}, n::Int64)\n",
    "    return sum(e for e in S) + sqrt(length(S)) / n\n",
    "end"
   ]
  },
  {
   "cell_type": "markdown",
   "metadata": {},
   "source": [
    "Let's verify it returns the right values for $S = \\{1,2,3\\}$ and $S = \\{5\\}$ when the ground set is $n=10$."
   ]
  },
  {
   "cell_type": "code",
   "execution_count": 4,
   "metadata": {},
   "outputs": [
    {
     "data": {
      "text/plain": [
       "6.173205080756888"
      ]
     },
     "execution_count": 4,
     "metadata": {},
     "output_type": "execute_result"
    }
   ],
   "source": [
    "n = 10\n",
    "S = Set([1,2,3])\n",
    "simple_obj(S, n)"
   ]
  },
  {
   "cell_type": "code",
   "execution_count": 5,
   "metadata": {},
   "outputs": [
    {
     "data": {
      "text/plain": [
       "5.1"
      ]
     },
     "execution_count": 5,
     "metadata": {},
     "output_type": "execute_result"
    }
   ],
   "source": [
    "n = 10\n",
    "S = Set([5])\n",
    "simple_obj(S, n)"
   ]
  },
  {
   "cell_type": "markdown",
   "metadata": {},
   "source": [
    "As discussed above, a marginal gain oracle can often be implemented to be faster than a value oracle.\n",
    "In particular, the value oracle `f` above requires $\\mathcal{O}(|S|)$ additions.\n",
    "On the other hand, the following marginal gain oracle requires only a constant number of additions."
   ]
  },
  {
   "cell_type": "code",
   "execution_count": 6,
   "metadata": {},
   "outputs": [
    {
     "data": {
      "text/plain": [
       "simple_obj_diff (generic function with 1 method)"
      ]
     },
     "execution_count": 6,
     "metadata": {},
     "output_type": "execute_result"
    }
   ],
   "source": [
    "function simple_obj_diff(e::Int64, S::Set{Int64}, n::Int64)\n",
    "   if e in S\n",
    "        return 0\n",
    "    else\n",
    "        k = length(S)\n",
    "        return e + (sqrt(k+1) - sqrt(k)) / n\n",
    "    end\n",
    "end"
   ]
  },
  {
   "cell_type": "markdown",
   "metadata": {},
   "source": [
    "Let's quickly verify its correctness by using the value oracle."
   ]
  },
  {
   "cell_type": "code",
   "execution_count": 7,
   "metadata": {},
   "outputs": [
    {
     "ename": "LoadError",
     "evalue": "UndefVarError: f not defined",
     "output_type": "error",
     "traceback": [
      "UndefVarError: f not defined",
      "",
      "Stacktrace:",
      " [1] top-level scope at In[7]:5",
      " [2] include_string(::Function, ::Module, ::String, ::String) at ./loading.jl:1091"
     ]
    }
   ],
   "source": [
    "n = 10\n",
    "e = 6\n",
    "S = Set([1,2,3])\n",
    "\n",
    "gain1 = simple_obj(union(S,e),n) - f(S, n)\n",
    "gain2 = simple_obj_diff(e, S, n)\n",
    "\n",
    "println(\"Gain 1 is $gain1 and Gain 2 is $gain2\")"
   ]
  },
  {
   "cell_type": "markdown",
   "metadata": {},
   "source": [
    "The greedy optimization algorithms in the `SubmodularGreedy.jl` package only require marginal gain oracles, and so we shall use these throughout the remainder of the tutorial.\n",
    "Again, we stress that although one may always obtain a marginal gain oracle from two calls to a value oracle, this is rarely the most efficient implementation in practice."
   ]
  },
  {
   "cell_type": "markdown",
   "metadata": {},
   "source": [
    "### A simple independence system: cardinality constraint\n",
    "\n",
    "We continue our example with a simple independence system: the cardinality constraint.\n",
    "Below is an implementation of the indpendence oracle."
   ]
  },
  {
   "cell_type": "code",
   "execution_count": 8,
   "metadata": {},
   "outputs": [
    {
     "data": {
      "text/plain": [
       "card_oracle (generic function with 1 method)"
      ]
     },
     "execution_count": 8,
     "metadata": {},
     "output_type": "execute_result"
    }
   ],
   "source": [
    "function card_oracle(S::Set{Int64}, k::Int64)\n",
    "    return length(S) <= k\n",
    "end"
   ]
  },
  {
   "cell_type": "code",
   "execution_count": 9,
   "metadata": {},
   "outputs": [
    {
     "data": {
      "text/plain": [
       "true"
      ]
     },
     "execution_count": 9,
     "metadata": {},
     "output_type": "execute_result"
    }
   ],
   "source": [
    "S = Set([1,2,3])\n",
    "k = 10\n",
    "\n",
    "card_oracle(S,k)"
   ]
  },
  {
   "cell_type": "code",
   "execution_count": 10,
   "metadata": {},
   "outputs": [
    {
     "data": {
      "text/plain": [
       "false"
      ]
     },
     "execution_count": 10,
     "metadata": {},
     "output_type": "execute_result"
    }
   ],
   "source": [
    "S = Set([1,2,3,5,6])\n",
    "k = 2\n",
    "\n",
    "card_oracle(S,k)"
   ]
  },
  {
   "cell_type": "markdown",
   "metadata": {},
   "source": [
    "The greedy optimization algorithms in the `SubmodularGreedy.jl` package require a marginal independence oracle.\n",
    "In this case, the implementation of the marginal independence oracle will look very similar to the independence oracle."
   ]
  },
  {
   "cell_type": "code",
   "execution_count": 11,
   "metadata": {},
   "outputs": [
    {
     "data": {
      "text/plain": [
       "marginal_card_oracle (generic function with 1 method)"
      ]
     },
     "execution_count": 11,
     "metadata": {},
     "output_type": "execute_result"
    }
   ],
   "source": [
    "function marginal_card_oracle(e::Int64, S::Set{Int64}, k::Int64)\n",
    "    return length(union(S,e)) <= k\n",
    "end"
   ]
  },
  {
   "cell_type": "code",
   "execution_count": 12,
   "metadata": {},
   "outputs": [
    {
     "data": {
      "text/plain": [
       "true"
      ]
     },
     "execution_count": 12,
     "metadata": {},
     "output_type": "execute_result"
    }
   ],
   "source": [
    "e = 4\n",
    "S = Set([1,2,3])\n",
    "k = 4\n",
    "\n",
    "marginal_card_oracle(e,S,k)"
   ]
  },
  {
   "cell_type": "code",
   "execution_count": 13,
   "metadata": {},
   "outputs": [
    {
     "data": {
      "text/plain": [
       "false"
      ]
     },
     "execution_count": 13,
     "metadata": {},
     "output_type": "execute_result"
    }
   ],
   "source": [
    "e = 4\n",
    "S = Set([1,2,3])\n",
    "k = 3\n",
    "\n",
    "marginal_card_oracle(e,S,k)"
   ]
  },
  {
   "cell_type": "markdown",
   "metadata": {},
   "source": [
    "Using the marginal gain oracles and the marginal independence oracles, we will run the Simultaneous Greedy, Repeated Greedy, and Greedy algorithms on our simple problem instance:\n",
    "\n",
    "$$\n",
    "\\max_{|S| \\leq k} \\sum_{e \\in S} c_e + \\frac{1}{n} \\sqrt{|S|} \\enspace,\n",
    "$$\n",
    "\n",
    "where the coefficients are given by $c_e = e$, i.e. $c_1 = 1$, $c_2 = 2$, \\dots $c_n = n$, etc.\n",
    "We fix a ground set of size $n = 10$, a cardinality constraint of $k=3$, and we instantiate the necessary oracles below:"
   ]
  },
  {
   "cell_type": "code",
   "execution_count": 14,
   "metadata": {},
   "outputs": [
    {
     "data": {
      "text/plain": [
       "ind_add_oracle (generic function with 1 method)"
      ]
     },
     "execution_count": 14,
     "metadata": {},
     "output_type": "execute_result"
    }
   ],
   "source": [
    "n = 10\n",
    "k = 3\n",
    "\n",
    "gnd = collect(1:n)\n",
    "f_diff(e,S) = simple_obj_diff(e,S,n)\n",
    "ind_add_oracle(e,S) = marginal_card_oracle(e,S,k)"
   ]
  },
  {
   "cell_type": "markdown",
   "metadata": {},
   "source": [
    "### Greedy\n",
    "\n",
    "Let's begin by running the greedy algorithm.\n",
    "The greedy algorithm should construct the solution\n",
    "\n",
    "$$\n",
    "S = \\{10, 9, 8\\} \\enspace.\n",
    "$$\n",
    "\n",
    "To run the greedy algorithm, we call the function `greedy` with inputs:\n",
    "\n",
    "1. `gnd`, an array of ground set elements\n",
    "2. `f_diff`, a marginal gain oracle\n",
    "3. `ind_add_oracle`, a marginal independence oracle"
   ]
  },
  {
   "cell_type": "code",
   "execution_count": 15,
   "metadata": {},
   "outputs": [
    {
     "name": "stdout",
     "output_type": "stream",
     "text": [
      "\n",
      "Iteration 1\n",
      "\tSet 1 is { } with value 0.0\n",
      "\n",
      "\tLooking at element 10 with solution 1, previously queried at 0 with gain 10.1 and density 0.0\n",
      "\t\tWe will be adding this element 10 to solution 1\n",
      "\n",
      "Iteration 2\n",
      "\tSet 1 is { 10 } with value 10.1\n",
      "\n",
      "\tLooking at element 9 with solution 1, previously queried at 0 with gain 9.1 and density 0.0\n",
      "\tLooking at element 9 with solution 1, previously queried at 1 with gain 9.04142135623731 and density 0.0\n",
      "\t\tWe will be adding this element 9 to solution 1\n",
      "\n",
      "Iteration 3\n",
      "\tSet 1 is { 9, 10 } with value 19.14142135623731\n",
      "\n",
      "\tLooking at element 8 with solution 1, previously queried at 0 with gain 8.1 and density 0.0\n",
      "\tLooking at element 8 with solution 1, previously queried at 2 with gain 8.031783724519578 and density 0.0\n",
      "\t\tWe will be adding this element 8 to solution 1\n",
      "\n",
      "Iteration 4\n",
      "\tSet 1 is { 8, 9, 10 } with value 27.173205080756887\n",
      "\n",
      "\tLooking at element 7 with solution 1, previously queried at 0 with gain 7.1 and density 0.0\n",
      "\tLooking at element 6 with solution 1, previously queried at 0 with gain 6.1 and density 0.0\n",
      "\tLooking at element 5 with solution 1, previously queried at 0 with gain 5.1 and density 0.0\n",
      "\tLooking at element 4 with solution 1, previously queried at 0 with gain 4.1 and density 0.0\n",
      "\tLooking at element 3 with solution 1, previously queried at 0 with gain 3.1 and density 0.0\n",
      "\tLooking at element 2 with solution 1, previously queried at 0 with gain 2.1 and density 0.0\n",
      "\tLooking at element 1 with solution 1, previously queried at 0 with gain 1.1 and density 0.0\n"
     ]
    },
    {
     "data": {
      "text/plain": [
       "(Set([9, 10, 8]), 27.173205080756887, 12, 19, false)"
      ]
     },
     "execution_count": 15,
     "metadata": {},
     "output_type": "execute_result"
    }
   ],
   "source": [
    "sol, f_val, num_fun, num_oracle, knap_reject = greedy(gnd, f_diff, ind_add_oracle, verbose=true)"
   ]
  },
  {
   "cell_type": "markdown",
   "metadata": {},
   "source": [
    "We see from the printed execution path that Greedy runs as expected.\n",
    "When we executed the function above, we set `verbose=true`, which displays the entire execution path.\n",
    "The default is `verobse=false`, which does not print anything.\n",
    "\n",
    "Another thing we see from the execution path is that few marginal gain oracles are needed in this problem instance.\n",
    "In particular, the marginal gain oracle is called only $n + (k-1) = 10 + (3-1) = 12$ times, once to create the priority queue and once at each iteration after the first.\n",
    "If we used a linear search at each iteration, this number of oracle calls would be $k \\cdot n = 3 \\times 10 = 30$.\n",
    "\n",
    "The output of the greedy algorithm is:\n",
    "\n",
    "1. `sol`: the greedy solution\n",
    "2. `f_val`: the objective value of the greedy solution\n",
    "3. `num_fun`: the number of calls to the marginal gain oracle\n",
    "4. `num_oracle`: the number of calls to the marginal independence oracle\n",
    "5. `knap_reject`: (irrelevant at this point)\n",
    "\n",
    "All other greedy optimization algorithms in the `SubmodularGreedy.jl` package have similar outputs.\n",
    "\n",
    "If we want to see the documentation for this function, we can type `?greedy`, which brings up the following documentation:"
   ]
  },
  {
   "cell_type": "code",
   "execution_count": 16,
   "metadata": {},
   "outputs": [
    {
     "name": "stdout",
     "output_type": "stream",
     "text": [
      "search: \u001b[0m\u001b[1mg\u001b[22m\u001b[0m\u001b[1mr\u001b[22m\u001b[0m\u001b[1me\u001b[22m\u001b[0m\u001b[1me\u001b[22m\u001b[0m\u001b[1md\u001b[22m\u001b[0m\u001b[1my\u001b[22m sample_\u001b[0m\u001b[1mg\u001b[22m\u001b[0m\u001b[1mr\u001b[22m\u001b[0m\u001b[1me\u001b[22m\u001b[0m\u001b[1me\u001b[22m\u001b[0m\u001b[1md\u001b[22m\u001b[0m\u001b[1my\u001b[22m repeated_\u001b[0m\u001b[1mg\u001b[22m\u001b[0m\u001b[1mr\u001b[22m\u001b[0m\u001b[1me\u001b[22m\u001b[0m\u001b[1me\u001b[22m\u001b[0m\u001b[1md\u001b[22m\u001b[0m\u001b[1my\u001b[22m Submodular\u001b[0m\u001b[1mG\u001b[22m\u001b[0m\u001b[1mr\u001b[22m\u001b[0m\u001b[1me\u001b[22m\u001b[0m\u001b[1me\u001b[22m\u001b[0m\u001b[1md\u001b[22m\u001b[0m\u001b[1my\u001b[22m\n",
      "\n"
     ]
    },
    {
     "data": {
      "text/latex": [
       "\\begin{verbatim}\n",
       "greedy([gnd, pq], f_diff, ind_add_oracle; knapsack_constraints=nothing, density_ratio=0.0)\n",
       "\\end{verbatim}\n",
       "The greedy algorithm, possibly with density ratio thresholding for knapsack constraints.\n",
       "\n",
       "\\section{Arguments}\n",
       "\\begin{itemize}\n",
       "\\item \\texttt{gnd}: a integer array of elements, or a priority queue of elements\n",
       "\n",
       "\n",
       "\\item \\texttt{f\\_diff}: a marginal difference oracle\n",
       "\n",
       "\n",
       "\\item \\texttt{ind\\_add\\_oracle}: an independence oracle\n",
       "\n",
       "\\end{itemize}\n",
       "\\section{Optional Arguments}\n",
       "\\begin{itemize}\n",
       "\\item \\texttt{knapsack\\_constraints}: a 2D array of knapsack constraints (default: nothing)\n",
       "\n",
       "\n",
       "\\item \\texttt{density\\_ratio}: the maximum density ratio threshold (default: 0.0)\n",
       "\n",
       "\n",
       "\\item \\texttt{epsilon}: a number in [0,1] which controls the approximation / speed trade off. Set to \\texttt{0.0} for exact algorithm.\n",
       "\n",
       "\n",
       "\\item \\texttt{opt\\_size\\_ub}: an upper bound on the size of the optimal set\n",
       "\n",
       "\\end{itemize}\n",
       "\\section{Output}\n",
       "\\begin{itemize}\n",
       "\\item \\texttt{best\\_sol}: the best solution \n",
       "\n",
       "\n",
       "\\item \\texttt{best\\_f\\_val}: value of the objective at the solution\n",
       "\n",
       "\n",
       "\\item \\texttt{num\\_fun}: the number of function evaluations\n",
       "\n",
       "\n",
       "\\item \\texttt{num\\_oracle}: the number of independence oracle evaluations\n",
       "\n",
       "\n",
       "\\item \\texttt{knap\\_reject}: an indicator whether the knapsack feasibility was rejected or not\n",
       "\n",
       "\\end{itemize}\n"
      ],
      "text/markdown": [
       "```\n",
       "greedy([gnd, pq], f_diff, ind_add_oracle; knapsack_constraints=nothing, density_ratio=0.0)\n",
       "```\n",
       "\n",
       "The greedy algorithm, possibly with density ratio thresholding for knapsack constraints.\n",
       "\n",
       "# Arguments\n",
       "\n",
       "  * `gnd`: a integer array of elements, or a priority queue of elements\n",
       "  * `f_diff`: a marginal difference oracle\n",
       "  * `ind_add_oracle`: an independence oracle\n",
       "\n",
       "# Optional Arguments\n",
       "\n",
       "  * `knapsack_constraints`: a 2D array of knapsack constraints (default: nothing)\n",
       "  * `density_ratio`: the maximum density ratio threshold (default: 0.0)\n",
       "  * `epsilon`: a number in [0,1] which controls the approximation / speed trade off. Set to `0.0` for exact algorithm.\n",
       "  * `opt_size_ub`: an upper bound on the size of the optimal set\n",
       "\n",
       "# Output\n",
       "\n",
       "  * `best_sol`: the best solution\n",
       "  * `best_f_val`: value of the objective at the solution\n",
       "  * `num_fun`: the number of function evaluations\n",
       "  * `num_oracle`: the number of independence oracle evaluations\n",
       "  * `knap_reject`: an indicator whether the knapsack feasibility was rejected or not\n"
      ],
      "text/plain": [
       "\u001b[36m  greedy([gnd, pq], f_diff, ind_add_oracle; knapsack_constraints=nothing, density_ratio=0.0)\u001b[39m\n",
       "\n",
       "  The greedy algorithm, possibly with density ratio thresholding for knapsack\n",
       "  constraints.\n",
       "\n",
       "\u001b[1m  Arguments\u001b[22m\n",
       "\u001b[1m  ≡≡≡≡≡≡≡≡≡≡≡\u001b[22m\n",
       "\n",
       "    •    \u001b[36mgnd\u001b[39m: a integer array of elements, or a priority queue of elements\n",
       "\n",
       "    •    \u001b[36mf_diff\u001b[39m: a marginal difference oracle\n",
       "\n",
       "    •    \u001b[36mind_add_oracle\u001b[39m: an independence oracle\n",
       "\n",
       "\u001b[1m  Optional Arguments\u001b[22m\n",
       "\u001b[1m  ≡≡≡≡≡≡≡≡≡≡≡≡≡≡≡≡≡≡≡≡\u001b[22m\n",
       "\n",
       "    •    \u001b[36mknapsack_constraints\u001b[39m: a 2D array of knapsack constraints (default:\n",
       "        nothing)\n",
       "\n",
       "    •    \u001b[36mdensity_ratio\u001b[39m: the maximum density ratio threshold (default: 0.0)\n",
       "\n",
       "    •    \u001b[36mepsilon\u001b[39m: a number in [0,1] which controls the approximation /\n",
       "        speed trade off. Set to \u001b[36m0.0\u001b[39m for exact algorithm.\n",
       "\n",
       "    •    \u001b[36mopt_size_ub\u001b[39m: an upper bound on the size of the optimal set\n",
       "\n",
       "\u001b[1m  Output\u001b[22m\n",
       "\u001b[1m  ≡≡≡≡≡≡≡≡\u001b[22m\n",
       "\n",
       "    •    \u001b[36mbest_sol\u001b[39m: the best solution \n",
       "\n",
       "    •    \u001b[36mbest_f_val\u001b[39m: value of the objective at the solution\n",
       "\n",
       "    •    \u001b[36mnum_fun\u001b[39m: the number of function evaluations\n",
       "\n",
       "    •    \u001b[36mnum_oracle\u001b[39m: the number of independence oracle evaluations\n",
       "\n",
       "    •    \u001b[36mknap_reject\u001b[39m: an indicator whether the knapsack feasibility was\n",
       "        rejected or not"
      ]
     },
     "execution_count": 16,
     "metadata": {},
     "output_type": "execute_result"
    }
   ],
   "source": [
    "?greedy"
   ]
  },
  {
   "cell_type": "markdown",
   "metadata": {},
   "source": [
    "## Sample Greedy\n",
    "\n",
    "Next, we run the sample greedy algorithm. \n",
    "The sample greedy algorithm takes an additional argument `sample_prob`, which is the probability that an element is included in the subsampled ground set.\n",
    "\n",
    "We keep the verbosity level set so we can view the execution path of the algorithm."
   ]
  },
  {
   "cell_type": "code",
   "execution_count": 17,
   "metadata": {},
   "outputs": [
    {
     "name": "stdout",
     "output_type": "stream",
     "text": [
      "The subsampled elements are [3, 4, 5, 6, 7, 8, 9]\n",
      "Iteration 1\n",
      "\tSet 1 is { } with value 0.0\n",
      "\n",
      "\tLooking at element 9 with solution 1, previously queried at 0 with gain 9.1 and density 0.0\n",
      "\t\tWe will be adding this element 9 to solution 1\n",
      "\n",
      "Iteration 2\n",
      "\tSet 1 is { 9 } with value 9.1\n",
      "\n",
      "\tLooking at element 8 with solution 1, previously queried at 0 with gain 8.1 and density 0.0\n",
      "\tLooking at element 8 with solution 1, previously queried at 1 with gain 8.04142135623731 and density 0.0\n",
      "\t\tWe will be adding this element 8 to solution 1\n",
      "\n",
      "Iteration 3\n",
      "\tSet 1 is { 8, 9 } with value 17.14142135623731\n",
      "\n",
      "\tLooking at element 7 with solution 1, previously queried at 0 with gain 7.1 and density 0.0\n",
      "\tLooking at element 7 with solution 1, previously queried at 2 with gain 7.0317837245195784 and density 0.0\n",
      "\t\tWe will be adding this element 7 to solution 1\n",
      "\n",
      "Iteration 4\n",
      "\tSet 1 is { 7, 8, 9 } with value 24.173205080756887\n",
      "\n",
      "\tLooking at element 6 with solution 1, previously queried at 0 with gain 6.1 and density 0.0\n",
      "\tLooking at element 5 with solution 1, previously queried at 0 with gain 5.1 and density 0.0\n",
      "\tLooking at element 4 with solution 1, previously queried at 0 with gain 4.1 and density 0.0\n",
      "\tLooking at element 3 with solution 1, previously queried at 0 with gain 3.1 and density 0.0\n"
     ]
    },
    {
     "data": {
      "text/plain": [
       "(Set([7, 9, 8]), 24.173205080756887, 9, 13)"
      ]
     },
     "execution_count": 17,
     "metadata": {},
     "output_type": "execute_result"
    }
   ],
   "source": [
    "Random.seed!(0)\n",
    "\n",
    "sample_prob = 0.5\n",
    "sol, f_val, num_fun, num_oracle = sample_greedy(gnd, sample_prob, f_diff, ind_add_oracle, verbose=true)"
   ]
  },
  {
   "cell_type": "markdown",
   "metadata": {},
   "source": [
    "## Repeated Greedy\n",
    "\n",
    "Next, we run the Repeated Greedy algorithm.\n",
    "The additional input parameter that we have to specify is `num_sol`, the number of solutions.\n",
    "\n",
    "In our simple instance, the Repeated Greedy algorithm will construct sets \n",
    "\n",
    "$$\n",
    "S_1 = \\{10, 9, 8\\}, \\quad\n",
    "S_2 = \\{7,6,5\\}, \\quad\n",
    "S_3 = \\{4,3,2\\}\n",
    "$$\n",
    "\n",
    "and so the set $S_1 = \\{10, 9, 8\\}$ will be returned.\n",
    "Let's set a higher verbose option so we can see the execution of the algorithm."
   ]
  },
  {
   "cell_type": "code",
   "execution_count": 18,
   "metadata": {},
   "outputs": [
    {
     "name": "stdout",
     "output_type": "stream",
     "text": [
      "Running repeated greedys\n",
      "============================\n",
      "Ground set has 10 elements\n",
      "The independence system parameter k is not specified\n",
      "\n",
      "Constructing 3 solutions\n",
      "\n",
      "Iteration 1\n",
      "\tGreedy returned set { 8, 9, 10 } with value 27.173205080756887\n",
      "\tUnconstrained returned set { 8, 9, 10 } with value 27.173205080756887\n",
      "\n",
      "Iteration 2\n",
      "\tGreedy returned set { 5, 6, 7 } with value 18.173205080756887\n",
      "\tUnconstrained returned set { 5, 6, 7 } with value 18.173205080756887\n",
      "\n",
      "Iteration 3\n",
      "\tGreedy returned set { 2, 3, 4 } with value 9.173205080756887\n",
      "\tUnconstrained returned set { 2, 3, 4 } with value 9.173205080756887\n",
      "\n",
      "\n",
      "Obtained solution S = { 8, 9, 10 }\n",
      "Obtained solution has value 27.173205080756887\n",
      "Required 34 function evaluations and 28 independence queries\n"
     ]
    },
    {
     "data": {
      "text/plain": [
       "(Set([9, 10, 8]), 27.173205080756887, 34, 28)"
      ]
     },
     "execution_count": 18,
     "metadata": {},
     "output_type": "execute_result"
    }
   ],
   "source": [
    "sol, f_val, num_fun, num_oracle = repeated_greedy(gnd, f_diff, ind_add_oracle, num_sol=3, verbose_lvl=2)"
   ]
  },
  {
   "cell_type": "markdown",
   "metadata": {},
   "source": [
    "## Simultaneous Greedy\n",
    "\n",
    "Finally, we run the Simultaneous Greedy algorithm.\n",
    "The Simultaneous Greedy algorithm will construct different sets on this simple problem instance.\n",
    "When `num_sol=3`, then we will have that\n",
    "\n",
    "$$\n",
    "S_1 = \\{10, 7, 4 \\} \\quad\n",
    "S_2 = \\{9, 6, 3 \\}\\quad\n",
    "S_3 = \\{8, 5, 2 \\}\n",
    "$$\n",
    "\n",
    "and the set $S_1 = \\{ 10, 7, 4\\}$ will be returned.\n",
    "Let's set the higher verbose option so that we can see the execution of the algorithm."
   ]
  },
  {
   "cell_type": "code",
   "execution_count": 19,
   "metadata": {
    "scrolled": false
   },
   "outputs": [
    {
     "name": "stdout",
     "output_type": "stream",
     "text": [
      "Running simultaneous greedys\n",
      "============================\n",
      "Ground set has 10 elements\n",
      "Objective function is non-monotone\n",
      "The independence system parameter k is not specified\n",
      "\n",
      "Constructing 3 solutions\n",
      "\n",
      "Iteration 1\n",
      "\tSet 1 is { } with value 0.0\n",
      "\tSet 2 is { } with value 0.0\n",
      "\tSet 3 is { } with value 0.0\n",
      "\n",
      "\tLooking at element 10 with solution 1, previously queried at 0 with gain 10.1 and density 0.0\n",
      "\t\tWe will be adding this element 10 to solution 1\n",
      "\n",
      "Iteration 2\n",
      "\tSet 1 is { 10 } with value 10.1\n",
      "\tSet 2 is { } with value 0.0\n",
      "\tSet 3 is { } with value 0.0\n",
      "\n",
      "\tLooking at element 9 with solution 1, previously queried at 0 with gain 9.1 and density 0.0\n",
      "\tLooking at element 9 with solution 2, previously queried at 0 with gain 9.1 and density 0.0\n",
      "\t\tWe will be adding this element 9 to solution 2\n",
      "\n",
      "Iteration 3\n",
      "\tSet 1 is { 10 } with value 10.1\n",
      "\tSet 2 is { 9 } with value 9.1\n",
      "\tSet 3 is { } with value 0.0\n",
      "\n",
      "\tLooking at element 8 with solution 1, previously queried at 0 with gain 8.1 and density 0.0\n",
      "\tLooking at element 8 with solution 3, previously queried at 0 with gain 8.1 and density 0.0\n",
      "\t\tWe will be adding this element 8 to solution 3\n",
      "\n",
      "Iteration 4\n",
      "\tSet 1 is { 10 } with value 10.1\n",
      "\tSet 2 is { 9 } with value 9.1\n",
      "\tSet 3 is { 8 } with value 8.1\n",
      "\n",
      "\tLooking at element 7 with solution 1, previously queried at 0 with gain 7.1 and density 0.0\n",
      "\tLooking at element 7 with solution 2, previously queried at 0 with gain 7.1 and density 0.0\n",
      "\tLooking at element 7 with solution 3, previously queried at 0 with gain 7.1 and density 0.0\n",
      "\tLooking at element 7 with solution 1, previously queried at 1 with gain 7.04142135623731 and density 0.0\n",
      "\t\tWe will be adding this element 7 to solution 1\n",
      "\n",
      "Iteration 5\n",
      "\tSet 1 is { 7, 10 } with value 17.14142135623731\n",
      "\tSet 2 is { 9 } with value 9.1\n",
      "\tSet 3 is { 8 } with value 8.1\n",
      "\n",
      "\tLooking at element 6 with solution 1, previously queried at 0 with gain 6.1 and density 0.0\n",
      "\tLooking at element 6 with solution 2, previously queried at 0 with gain 6.1 and density 0.0\n",
      "\tLooking at element 6 with solution 3, previously queried at 0 with gain 6.1 and density 0.0\n",
      "\tLooking at element 6 with solution 2, previously queried at 1 with gain 6.04142135623731 and density 0.0\n",
      "\t\tWe will be adding this element 6 to solution 2\n",
      "\n",
      "Iteration 6\n",
      "\tSet 1 is { 7, 10 } with value 17.14142135623731\n",
      "\tSet 2 is { 6, 9 } with value 15.14142135623731\n",
      "\tSet 3 is { 8 } with value 8.1\n",
      "\n",
      "\tLooking at element 5 with solution 3, previously queried at 0 with gain 5.1 and density 0.0\n",
      "\tLooking at element 5 with solution 2, previously queried at 0 with gain 5.1 and density 0.0\n",
      "\tLooking at element 5 with solution 1, previously queried at 0 with gain 5.1 and density 0.0\n",
      "\tLooking at element 5 with solution 3, previously queried at 1 with gain 5.04142135623731 and density 0.0\n",
      "\t\tWe will be adding this element 5 to solution 3\n",
      "\n",
      "Iteration 7\n",
      "\tSet 1 is { 7, 10 } with value 17.14142135623731\n",
      "\tSet 2 is { 6, 9 } with value 15.14142135623731\n",
      "\tSet 3 is { 5, 8 } with value 13.14142135623731\n",
      "\n",
      "\tLooking at element 4 with solution 1, previously queried at 0 with gain 4.1 and density 0.0\n",
      "\tLooking at element 4 with solution 3, previously queried at 0 with gain 4.1 and density 0.0\n",
      "\tLooking at element 4 with solution 2, previously queried at 0 with gain 4.1 and density 0.0\n",
      "\tLooking at element 4 with solution 1, previously queried at 2 with gain 4.0317837245195784 and density 0.0\n",
      "\t\tWe will be adding this element 4 to solution 1\n",
      "\n",
      "Iteration 8\n",
      "\tSet 1 is { 4, 7, 10 } with value 21.173205080756887\n",
      "\tSet 2 is { 6, 9 } with value 15.14142135623731\n",
      "\tSet 3 is { 5, 8 } with value 13.14142135623731\n",
      "\n",
      "\tLooking at element 3 with solution 2, previously queried at 0 with gain 3.1 and density 0.0\n",
      "\tLooking at element 3 with solution 1, previously queried at 0 with gain 3.1 and density 0.0\n",
      "\tLooking at element 3 with solution 3, previously queried at 0 with gain 3.1 and density 0.0\n",
      "\tLooking at element 3 with solution 2, previously queried at 2 with gain 3.031783724519578 and density 0.0\n",
      "\t\tWe will be adding this element 3 to solution 2\n",
      "\n",
      "Iteration 9\n",
      "\tSet 1 is { 4, 7, 10 } with value 21.173205080756887\n",
      "\tSet 2 is { 3, 6, 9 } with value 18.173205080756887\n",
      "\tSet 3 is { 5, 8 } with value 13.14142135623731\n",
      "\n",
      "\tLooking at element 2 with solution 1, previously queried at 0 with gain 2.1 and density 0.0\n",
      "\tLooking at element 2 with solution 2, previously queried at 0 with gain 2.1 and density 0.0\n",
      "\tLooking at element 2 with solution 3, previously queried at 0 with gain 2.1 and density 0.0\n",
      "\tLooking at element 2 with solution 3, previously queried at 2 with gain 2.031783724519578 and density 0.0\n",
      "\t\tWe will be adding this element 2 to solution 3\n",
      "\n",
      "Iteration 10\n",
      "\tSet 1 is { 4, 7, 10 } with value 21.173205080756887\n",
      "\tSet 2 is { 3, 6, 9 } with value 18.173205080756887\n",
      "\tSet 3 is { 2, 5, 8 } with value 15.173205080756887\n",
      "\n",
      "\tLooking at element 1 with solution 2, previously queried at 0 with gain 1.1 and density 0.0\n",
      "\tLooking at element 1 with solution 3, previously queried at 0 with gain 1.1 and density 0.0\n",
      "\tLooking at element 1 with solution 1, previously queried at 0 with gain 1.1 and density 0.0\n",
      "The best solution is Set([7, 4, 10])\n",
      "\n",
      "\n",
      "Obtained solution S = { 4, 7, 10 }\n",
      "Obtained solution has value 21.173205080756887\n",
      "Required 27 function evaluations and 33 independence queries\n"
     ]
    },
    {
     "data": {
      "text/plain": [
       "(Set([7, 4, 10]), 21.173205080756887, 27, 33)"
      ]
     },
     "execution_count": 19,
     "metadata": {},
     "output_type": "execute_result"
    }
   ],
   "source": [
    "sol, f_val, num_fun, num_oracle = simultaneous_greedys(gnd, f_diff, ind_add_oracle, num_sol=3, verbose_lvl=2)"
   ]
  },
  {
   "cell_type": "markdown",
   "metadata": {},
   "source": [
    "## Automatic Parameter Tuning\n",
    "\n",
    "In our accompanying papers, we derive settings of `num_sol` and `sample_prob`, which maximize the worst-case approximation ratio of the algorithms.\n",
    "The settings here are based on the following aspects of the problem:\n",
    "\n",
    "1. The monotonicity of the objective\n",
    "2. The independence system parameter $k$\n",
    "3. Whether the independence system is $k$-extedible or a $k$-system\n",
    "\n",
    "For automatic parameter tuning, all that is required is the value $k$.\n",
    "If the optional `monotone` and `extedible` arguments are not given, then they are assumed to both be false.\n",
    "\n",
    "Let's see an example of automatic parameter tuning.\n",
    "Our simple example is monotone with a $1$-extendible system.\n",
    "In this case, the worst-case analysis suggests that both repeated greedy and simulatneous greedy use `num_sol=1` solution."
   ]
  },
  {
   "cell_type": "code",
   "execution_count": 20,
   "metadata": {},
   "outputs": [
    {
     "name": "stdout",
     "output_type": "stream",
     "text": [
      "Running simultaneous greedys\n",
      "============================\n",
      "Ground set has 10 elements\n",
      "Objective function is monotone\n",
      "Independence system is 1-extendible system\n",
      "\n",
      "Constructing 1 solutions\n",
      "\n",
      "Iteration 1\n",
      "\tSet 1 is { } with value 0.0\n",
      "\n",
      "\tLooking at element 10 with solution 1, previously queried at 0 with gain 10.1 and density 0.0\n",
      "\t\tWe will be adding this element 10 to solution 1\n",
      "\n",
      "Iteration 2\n",
      "\tSet 1 is { 10 } with value 10.1\n",
      "\n",
      "\tLooking at element 9 with solution 1, previously queried at 0 with gain 9.1 and density 0.0\n",
      "\tLooking at element 9 with solution 1, previously queried at 1 with gain 9.04142135623731 and density 0.0\n",
      "\t\tWe will be adding this element 9 to solution 1\n",
      "\n",
      "Iteration 3\n",
      "\tSet 1 is { 9, 10 } with value 19.14142135623731\n",
      "\n",
      "\tLooking at element 8 with solution 1, previously queried at 0 with gain 8.1 and density 0.0\n",
      "\tLooking at element 8 with solution 1, previously queried at 2 with gain 8.031783724519578 and density 0.0\n",
      "\t\tWe will be adding this element 8 to solution 1\n",
      "\n",
      "Iteration 4\n",
      "\tSet 1 is { 8, 9, 10 } with value 27.173205080756887\n",
      "\n",
      "\tLooking at element 7 with solution 1, previously queried at 0 with gain 7.1 and density 0.0\n",
      "\tLooking at element 6 with solution 1, previously queried at 0 with gain 6.1 and density 0.0\n",
      "\tLooking at element 5 with solution 1, previously queried at 0 with gain 5.1 and density 0.0\n",
      "\tLooking at element 4 with solution 1, previously queried at 0 with gain 4.1 and density 0.0\n",
      "\tLooking at element 3 with solution 1, previously queried at 0 with gain 3.1 and density 0.0\n",
      "\tLooking at element 2 with solution 1, previously queried at 0 with gain 2.1 and density 0.0\n",
      "\tLooking at element 1 with solution 1, previously queried at 0 with gain 1.1 and density 0.0\n",
      "The best solution is Set([9, 10, 8])\n",
      "\n",
      "\n",
      "Obtained solution S = { 8, 9, 10 }\n",
      "Obtained solution has value 27.173205080756887\n",
      "Required 12 function evaluations and 19 independence queries\n"
     ]
    },
    {
     "data": {
      "text/plain": [
       "(Set([9, 10, 8]), 27.173205080756887, 12, 19)"
      ]
     },
     "execution_count": 20,
     "metadata": {},
     "output_type": "execute_result"
    }
   ],
   "source": [
    "sol, f_val, num_fun, num_oracle = simultaneous_greedys(gnd, f_diff, ind_add_oracle, k=1, extendible=true, monotone=true, verbose_lvl=2)"
   ]
  },
  {
   "cell_type": "markdown",
   "metadata": {},
   "source": [
    "If, on the other hand, we had a monotone objective (which we don't) then we could set `monotone=false` or simply not specify this optional input.\n",
    "In this case, the suggested number of solutions is `num_sol=2`."
   ]
  },
  {
   "cell_type": "code",
   "execution_count": 21,
   "metadata": {},
   "outputs": [
    {
     "name": "stdout",
     "output_type": "stream",
     "text": [
      "Running simultaneous greedys\n",
      "============================\n",
      "Ground set has 10 elements\n",
      "Objective function is non-monotone\n",
      "Independence system is 1-extendible system\n",
      "\n",
      "Constructing 2 solutions\n",
      "\n",
      "Iteration 1\n",
      "\tSet 1 is { } with value 0.0\n",
      "\tSet 2 is { } with value 0.0\n",
      "\n",
      "\tLooking at element 10 with solution 1, previously queried at 0 with gain 10.1 and density 0.0\n",
      "\t\tWe will be adding this element 10 to solution 1\n",
      "\n",
      "Iteration 2\n",
      "\tSet 1 is { 10 } with value 10.1\n",
      "\tSet 2 is { } with value 0.0\n",
      "\n",
      "\tLooking at element 9 with solution 1, previously queried at 0 with gain 9.1 and density 0.0\n",
      "\tLooking at element 9 with solution 2, previously queried at 0 with gain 9.1 and density 0.0\n",
      "\t\tWe will be adding this element 9 to solution 2\n",
      "\n",
      "Iteration 3\n",
      "\tSet 1 is { 10 } with value 10.1\n",
      "\tSet 2 is { 9 } with value 9.1\n",
      "\n",
      "\tLooking at element 8 with solution 2, previously queried at 0 with gain 8.1 and density 0.0\n",
      "\tLooking at element 8 with solution 1, previously queried at 0 with gain 8.1 and density 0.0\n",
      "\tLooking at element 8 with solution 2, previously queried at 1 with gain 8.04142135623731 and density 0.0\n",
      "\t\tWe will be adding this element 8 to solution 2\n",
      "\n",
      "Iteration 4\n",
      "\tSet 1 is { 10 } with value 10.1\n",
      "\tSet 2 is { 8, 9 } with value 17.14142135623731\n",
      "\n",
      "\tLooking at element 7 with solution 1, previously queried at 0 with gain 7.1 and density 0.0\n",
      "\tLooking at element 7 with solution 2, previously queried at 0 with gain 7.1 and density 0.0\n",
      "\tLooking at element 7 with solution 1, previously queried at 1 with gain 7.04142135623731 and density 0.0\n",
      "\t\tWe will be adding this element 7 to solution 1\n",
      "\n",
      "Iteration 5\n",
      "\tSet 1 is { 7, 10 } with value 17.14142135623731\n",
      "\tSet 2 is { 8, 9 } with value 17.14142135623731\n",
      "\n",
      "\tLooking at element 6 with solution 1, previously queried at 0 with gain 6.1 and density 0.0\n",
      "\tLooking at element 6 with solution 2, previously queried at 0 with gain 6.1 and density 0.0\n",
      "\tLooking at element 6 with solution 1, previously queried at 2 with gain 6.0317837245195784 and density 0.0\n",
      "\t\tWe will be adding this element 6 to solution 1\n",
      "\n",
      "Iteration 6\n",
      "\tSet 1 is { 6, 7, 10 } with value 23.173205080756887\n",
      "\tSet 2 is { 8, 9 } with value 17.14142135623731\n",
      "\n",
      "\tLooking at element 5 with solution 2, previously queried at 0 with gain 5.1 and density 0.0\n",
      "\tLooking at element 5 with solution 1, previously queried at 0 with gain 5.1 and density 0.0\n",
      "\tLooking at element 5 with solution 2, previously queried at 2 with gain 5.0317837245195784 and density 0.0\n",
      "\t\tWe will be adding this element 5 to solution 2\n",
      "\n",
      "Iteration 7\n",
      "\tSet 1 is { 6, 7, 10 } with value 23.173205080756887\n",
      "\tSet 2 is { 5, 8, 9 } with value 22.173205080756887\n",
      "\n",
      "\tLooking at element 4 with solution 1, previously queried at 0 with gain 4.1 and density 0.0\n",
      "\tLooking at element 4 with solution 2, previously queried at 0 with gain 4.1 and density 0.0\n",
      "\tLooking at element 3 with solution 2, previously queried at 0 with gain 3.1 and density 0.0\n",
      "\tLooking at element 3 with solution 1, previously queried at 0 with gain 3.1 and density 0.0\n",
      "\tLooking at element 2 with solution 2, previously queried at 0 with gain 2.1 and density 0.0\n",
      "\tLooking at element 2 with solution 1, previously queried at 0 with gain 2.1 and density 0.0\n",
      "\tLooking at element 1 with solution 1, previously queried at 0 with gain 1.1 and density 0.0\n",
      "\tLooking at element 1 with solution 2, previously queried at 0 with gain 1.1 and density 0.0\n",
      "The best solution is Set([7, 10, 6])\n",
      "\n",
      "\n",
      "Obtained solution S = { 6, 7, 10 }\n",
      "Obtained solution has value 23.173205080756887\n",
      "Required 18 function evaluations and 27 independence queries\n"
     ]
    },
    {
     "data": {
      "text/plain": [
       "(Set([7, 10, 6]), 23.173205080756887, 18, 27)"
      ]
     },
     "execution_count": 21,
     "metadata": {},
     "output_type": "execute_result"
    }
   ],
   "source": [
    "sol, f_val, num_fun, num_oracle = simultaneous_greedys(gnd, f_diff, ind_add_oracle, k=1, extendible=true, verbose_lvl=2)"
   ]
  },
  {
   "cell_type": "markdown",
   "metadata": {},
   "source": [
    "Note that in both of these executions, `num_sol` was not speficied, but rather was automatically set.\n",
    "The Sample Greedy and Repeated Greedy algorithms have similar automatic parameter setting features.\n",
    "\n",
    "Although automatic parameter setting is available, we often find that tuning these parameter is desirable.\n",
    "This is dicussed more in Section~XYZ of our paper."
   ]
  },
  {
   "cell_type": "markdown",
   "metadata": {},
   "source": [
    "## Linear time implementations\n",
    "\n",
    "All of the algorithms in the `SubmodularGreedy.jl` package have the option to incorporate the marginal gain thresholding technique, introduced by [Badanidiyuru & Vondrak, SODA 2014](https://theory.stanford.edu/~jvondrak/data/submod-fast.pdf).\n",
    "Roughly speaking, the technique takes as input a parameter $\\epsilon \\in (0,1]$ and ensures that the algorithm runs in time $\\mathcal{\\tilde{O}}(n / \\epsilon)$, while only losing a small multiplicative factor of $(1 - \\epsilon)$ in the worst-case approximation ratio.\n",
    "In this sense, the input parameter $\\epsilon$ trades off computation time for accuracy.\n",
    "\n",
    "To run any algorithm with this marginal gain thresholding technique, we can simply set the optional argument `epsilon`."
   ]
  },
  {
   "cell_type": "code",
   "execution_count": 22,
   "metadata": {},
   "outputs": [
    {
     "name": "stdout",
     "output_type": "stream",
     "text": [
      "\n",
      "Iteration 1\n",
      "\tSet 1 is { } with value 0.0\n",
      "\n",
      "\tLooking at element 10 with solution 1, previously queried at 0 with gain 10.1 and density 0.0\n",
      "\t\tWe will be adding this element 10 to solution 1\n",
      "\n",
      "Iteration 2\n",
      "\tSet 1 is { 10 } with value 10.1\n",
      "\n",
      "\tLooking at element 9 with solution 1, previously queried at 0 with gain 9.1 and density 0.0\n",
      "\tLooking at element 9 with solution 1, previously queried at 1 with gain 9.04142135623731 and density 0.0\n",
      "\t\tWe will be adding this element 9 to solution 1\n",
      "The updated threshold is 8.1 \n",
      "\n",
      "\n",
      "Iteration 3\n",
      "\tSet 1 is { 9, 10 } with value 19.14142135623731\n",
      "\n",
      "\tLooking at element 8 with solution 1, previously queried at 0 with gain 8.1 and density 0.0\n",
      "The updated threshold is 8.1 \n",
      "\n",
      "\tLooking at element 8 with solution 1, previously queried at 2 with gain 8.031783724519578 and density 0.0\n",
      "\t\tWe will be adding this element 8 to solution 1\n",
      "The updated threshold is 7.1 \n",
      "\n",
      "\n",
      "Iteration 4\n",
      "\tSet 1 is { 8, 9, 10 } with value 27.173205080756887\n",
      "\n",
      "\tLooking at element 7 with solution 1, previously queried at 0 with gain 7.1 and density 0.0\n",
      "The updated threshold is 7.1 \n",
      "\n",
      "\tLooking at element 6 with solution 1, previously queried at 0 with gain 6.1 and density 0.0\n",
      "The updated threshold is 7.1 \n",
      "\n",
      "\tLooking at element 5 with solution 1, previously queried at 0 with gain 5.1 and density 0.0\n",
      "The updated threshold is 7.1 \n",
      "\n",
      "\tLooking at element 4 with solution 1, previously queried at 0 with gain 4.1 and density 0.0\n",
      "The updated threshold is 7.1 \n",
      "\n",
      "\tLooking at element 3 with solution 1, previously queried at 0 with gain 3.1 and density 0.0\n",
      "The updated threshold is 7.1 \n",
      "\n",
      "\tLooking at element 2 with solution 1, previously queried at 0 with gain 2.1 and density 0.0\n",
      "The updated threshold is 7.1 \n",
      "\n",
      "\tLooking at element 1 with solution 1, previously queried at 0 with gain 1.1 and density 0.0\n"
     ]
    },
    {
     "data": {
      "text/plain": [
       "(Set([9, 10, 8]), 27.173205080756887, 12, 19, false)"
      ]
     },
     "execution_count": 22,
     "metadata": {},
     "output_type": "execute_result"
    }
   ],
   "source": [
    "sol, f_val, num_fun, num_oracle, knap_reject = greedy(gnd, f_diff, ind_add_oracle, epsilon=0.1, verbose=true)"
   ]
  },
  {
   "cell_type": "markdown",
   "metadata": {},
   "source": [
    "Note that the output printed the value of the threshold each time it was updated; however, the execution path of the greedy algorithm is the unaffected by the setting of this parameter `epsilon`.\n",
    "That is because we are using the lazy greedy technique together with a nearly linear objective.\n",
    "\n",
    "When we run the algorithms on a larger and more complex problem instance, then we will see the benefit of the linear time implementation."
   ]
  },
  {
   "cell_type": "markdown",
   "metadata": {},
   "source": [
    "## Knapsack Constraints\n",
    "\n",
    "All of the greedy-based optimization routines in `SubmodularGreedy.jl` support knapsack constraints.\n",
    "However, only Repeated Greedy and Simultaneous Greedy feature support for the density-threshold technique, introduced by [Mirzasoleiman et al, ICML 2016](http://proceedings.mlr.press/v48/mirzasoleiman16.html).\n",
    "Roughly speaking, the density-threshold technique determines whether an element should be added to the current solution based not only on its marginal gain alone, but whether its marginal gain is significantly larger than its knapsack cost.\n",
    "The notion of \"sufficiently\" here is the density threshold, which is given by $\\tau$.\n",
    "This threshold $\\tau$ is not given as input to the algorithm, but rather, a search over possible values of $\\tau$ takes place, and the best solution found is returned.\n",
    "Originally, a grid search was proposed by Mirzasoleiman et al, ICML 2016; however, in our accompanying paper, we introduce a binary search which achieves the same worst-case performance and provides an exponential speed up.\n",
    "\n",
    "The parameter for the search is `epsilon`, the same value that was used for the linear time implementation.\n",
    "Setting `epsilon` smaller yields a higher accuracy solution, at the cost of a longer computation time.\n",
    "\n",
    "### Updated Problem Instance\n",
    "\n",
    "We will add the following knapsack constraint to our problem instance:\n",
    "\n",
    "$$\n",
    "c(S) = \\sum_{e \\in S} c'_e \\leq 1 \\enspace,\n",
    "$$\n",
    "\n",
    "where the coefficients $c'_e$ are given by \n",
    "\n",
    "$$\n",
    "c'_e = \n",
    "\\left\\{\n",
    "     \\begin{array}{lr}\n",
    "       1 & \\text{ if } e \\geq 8\\\\\n",
    "       1/4 & \\text{ otherwise}\n",
    "     \\end{array}\n",
    "   \\right.\n",
    "$$\n",
    "\n",
    "This knapsack constraint means if an element of $\\{ 8, 9, 10\\}$ appears in a solution, then that is the only element in that solution.\n",
    "The greedy algorithm will get stuck with solution $S = \\{10\\}$, whereas the optimal solution will be $S = \\{5,6,7\\}$.\n",
    "\n",
    "We encode knapsack constraints $c_j(S) \\leq 1$ for $j=1,2, \\dots m$ as an $m$-by-$n$ array, where the $(j,i)$ entry contains the coefficient for element $i$ in knapsack $j$.\n",
    "Moreover, all of the right hand side is assumed to be 1.\n",
    "For example, we give this knapsack constraint below:"
   ]
  },
  {
   "cell_type": "code",
   "execution_count": 23,
   "metadata": {},
   "outputs": [
    {
     "data": {
      "text/plain": [
       "2×10 Array{Float64,2}:\n",
       " 0.25  0.25  0.25  0.25  0.25  0.25  0.25  0.25  0.25  0.9\n",
       " 0.25  0.25  0.25  0.25  0.25  0.25  0.7   0.7   0.25  0.25"
      ]
     },
     "execution_count": 23,
     "metadata": {},
     "output_type": "execute_result"
    }
   ],
   "source": [
    "knapsack_constraints = 0.25 * ones(2,n)\n",
    "knapsack_constraints[1,10] = 0.9\n",
    "knapsack_constraints[2,7:8] .= 0.7\n",
    "\n",
    "knapsack_constraints"
   ]
  },
  {
   "cell_type": "markdown",
   "metadata": {},
   "source": [
    "Now, let's run the greedy algorithm."
   ]
  },
  {
   "cell_type": "code",
   "execution_count": 24,
   "metadata": {},
   "outputs": [
    {
     "name": "stdout",
     "output_type": "stream",
     "text": [
      "\n",
      "Iteration 1\n",
      "\tSet 1 is { } with value 0.0\n",
      "\n",
      "\tLooking at element 10 with solution 1, previously queried at 0 with gain 10.1 and density 1.15\n",
      "\t\tWe will be adding this element 10 to solution 1\n",
      "\n",
      "Iteration 2\n",
      "\tSet 1 is { 10 } with value 10.1\n",
      "\n",
      "\tLooking at element 9 with solution 1, previously queried at 0 with gain 9.1 and density 0.5\n",
      "\tLooking at element 9 with solution 1, previously queried at 1 with gain 9.04142135623731 and density 0.5\n",
      "\tLooking at element 8 with solution 1, previously queried at 0 with gain 8.1 and density 0.95\n",
      "\tLooking at element 8 with solution 1, previously queried at 1 with gain 8.04142135623731 and density 0.95\n",
      "\tLooking at element 7 with solution 1, previously queried at 0 with gain 7.1 and density 0.95\n",
      "\tLooking at element 7 with solution 1, previously queried at 1 with gain 7.04142135623731 and density 0.95\n",
      "\tLooking at element 6 with solution 1, previously queried at 0 with gain 6.1 and density 0.5\n",
      "\tLooking at element 6 with solution 1, previously queried at 1 with gain 6.04142135623731 and density 0.5\n",
      "\tLooking at element 5 with solution 1, previously queried at 0 with gain 5.1 and density 0.5\n",
      "\tLooking at element 5 with solution 1, previously queried at 1 with gain 5.04142135623731 and density 0.5\n",
      "\tLooking at element 4 with solution 1, previously queried at 0 with gain 4.1 and density 0.5\n",
      "\tLooking at element 4 with solution 1, previously queried at 1 with gain 4.04142135623731 and density 0.5\n",
      "\tLooking at element 3 with solution 1, previously queried at 0 with gain 3.1 and density 0.5\n",
      "\tLooking at element 3 with solution 1, previously queried at 1 with gain 3.0414213562373096 and density 0.5\n",
      "\tLooking at element 2 with solution 1, previously queried at 0 with gain 2.1 and density 0.5\n",
      "\tLooking at element 2 with solution 1, previously queried at 1 with gain 2.0414213562373096 and density 0.5\n",
      "\tLooking at element 1 with solution 1, previously queried at 0 with gain 1.1 and density 0.5\n",
      "\tLooking at element 1 with solution 1, previously queried at 1 with gain 1.0414213562373096 and density 0.5\n"
     ]
    },
    {
     "data": {
      "text/plain": [
       "(Set([10]), 10.1, 19, 19, false)"
      ]
     },
     "execution_count": 24,
     "metadata": {},
     "output_type": "execute_result"
    }
   ],
   "source": [
    "sol, f_val, num_fun, num_oracle, knap_reject = greedy(gnd, f_diff, ind_add_oracle, knapsack_constraints=knapsack_constraints, verbose=true)"
   ]
  },
  {
   "cell_type": "markdown",
   "metadata": {},
   "source": [
    "As expected, the greedy algorithm gets stuck, leading to a non-optimal solution.\n",
    "\n",
    "We can overcome this via using the density thresholding technique in either Repeated Greedy or Simultaneous Greedy.\n",
    "For purposes of exposition, let's check out the Repeated Greedy algorithm."
   ]
  },
  {
   "cell_type": "code",
   "execution_count": 25,
   "metadata": {},
   "outputs": [
    {
     "name": "stdout",
     "output_type": "stream",
     "text": [
      "Running repeated greedys\n",
      "============================\n",
      "Ground set has 10 elements\n",
      "Independence system is 1-system\n",
      "There are 2 knapsack constraints\n",
      "\n",
      "Constructing 2 solutions\n",
      "A grid search for the best density ratio will be run with the parameters:\n",
      "\tbeta scaling term is 0.06666666666666667\n",
      "\terror term is 0.5\n",
      "\tbound on largest set is 10\n",
      "\n",
      "Iteration 1 \n",
      "\tUpper density ratio is 6.733333333333333 and lower density ratio is 0.6733333333333333\n",
      "\tBest value seen is -Inf\n",
      "\tSo far, we have 0 function evaluations and 0 independence queries\n",
      "\n",
      "Iteration 2 \n",
      "\tUpper density ratio is 2.129266957846709 and lower density ratio is 0.6733333333333333\n",
      "\tBest value seen is 17.14142135623731\n",
      "\tSo far, we have 23 function evaluations and 17 independence queries\n",
      "\n",
      "Iteration 3 \n",
      "\tUpper density ratio is 2.129266957846709 and lower density ratio is 1.1973748027595414\n",
      "\tBest value seen is 17.14142135623731\n",
      "\tSo far, we have 46 function evaluations and 34 independence queries\n",
      "\n",
      "\n",
      "Obtained solution S = { 8, 9 }\n",
      "Obtained solution has value 17.14142135623731\n",
      "Required 79 function evaluations and 61 independence queries\n"
     ]
    },
    {
     "data": {
      "text/plain": [
       "(Set([9, 8]), 17.14142135623731, 79, 61)"
      ]
     },
     "execution_count": 25,
     "metadata": {},
     "output_type": "execute_result"
    }
   ],
   "source": [
    "repeated_greedy(gnd, f_diff, ind_add_oracle, knapsack_constraints=knapsack_constraints, k=1, num_sol=2, monotone=true, epsilon=0.5, verbose_lvl=2)"
   ]
  },
  {
   "cell_type": "markdown",
   "metadata": {},
   "source": [
    "Repeated Greedy is able to get out of this local minima and find the best solution, thanks to the higher number of solutions and the density thresholding technique."
   ]
  },
  {
   "cell_type": "markdown",
   "metadata": {},
   "source": [
    "## Movie Recommendation: a problem instance with real data\n",
    "\n",
    "Finally, let's see how to run these algorithms on a problem instance with real data.\n",
    "We are going to use Simultion 2 from the accompanying paper, so please read Section~XYZ of our paper for more information and analysis on this problem instance.\n",
    "\n",
    "### Movie Lens + MetaData\n",
    "\n",
    "We begin by loading the DataFrame with the data. \n",
    "Let's look at it first before describing it."
   ]
  },
  {
   "cell_type": "code",
   "execution_count": 26,
   "metadata": {},
   "outputs": [
    {
     "data": {
      "text/html": [
       "<table class=\"data-frame\"><thead><tr><th></th><th>movieId</th><th>title</th><th>genres</th></tr><tr><th></th><th>Int64</th><th>String</th><th>String</th></tr></thead><tbody><p>10,473 rows × 7 columns (omitted printing of 4 columns)</p><tr><th>1</th><td>1</td><td>Toy Story (1995)</td><td>Adventure|Animation|Children|Comedy|Fantasy</td></tr><tr><th>2</th><td>2</td><td>Jumanji (1995)</td><td>Adventure|Children|Fantasy</td></tr><tr><th>3</th><td>3</td><td>Grumpier Old Men (1995)</td><td>Comedy|Romance</td></tr><tr><th>4</th><td>4</td><td>Waiting to Exhale (1995)</td><td>Comedy|Drama|Romance</td></tr><tr><th>5</th><td>5</td><td>Father of the Bride Part II (1995)</td><td>Comedy</td></tr><tr><th>6</th><td>6</td><td>Heat (1995)</td><td>Action|Crime|Thriller</td></tr><tr><th>7</th><td>7</td><td>Sabrina (1995)</td><td>Comedy|Romance</td></tr><tr><th>8</th><td>8</td><td>Tom and Huck (1995)</td><td>Adventure|Children</td></tr><tr><th>9</th><td>9</td><td>Sudden Death (1995)</td><td>Action</td></tr><tr><th>10</th><td>10</td><td>GoldenEye (1995)</td><td>Action|Adventure|Thriller</td></tr><tr><th>11</th><td>11</td><td>American President, The (1995)</td><td>Comedy|Drama|Romance</td></tr><tr><th>12</th><td>12</td><td>Dracula: Dead and Loving It (1995)</td><td>Comedy|Horror</td></tr><tr><th>13</th><td>13</td><td>Balto (1995)</td><td>Adventure|Animation|Children</td></tr><tr><th>14</th><td>14</td><td>Nixon (1995)</td><td>Drama</td></tr><tr><th>15</th><td>15</td><td>Cutthroat Island (1995)</td><td>Action|Adventure|Romance</td></tr><tr><th>16</th><td>16</td><td>Casino (1995)</td><td>Crime|Drama</td></tr><tr><th>17</th><td>17</td><td>Sense and Sensibility (1995)</td><td>Drama|Romance</td></tr><tr><th>18</th><td>18</td><td>Four Rooms (1995)</td><td>Comedy</td></tr><tr><th>19</th><td>19</td><td>Ace Ventura: When Nature Calls (1995)</td><td>Comedy</td></tr><tr><th>20</th><td>20</td><td>Money Train (1995)</td><td>Action|Comedy|Crime|Drama|Thriller</td></tr><tr><th>21</th><td>21</td><td>Get Shorty (1995)</td><td>Comedy|Crime|Thriller</td></tr><tr><th>22</th><td>22</td><td>Copycat (1995)</td><td>Crime|Drama|Horror|Mystery|Thriller</td></tr><tr><th>23</th><td>23</td><td>Assassins (1995)</td><td>Action|Crime|Thriller</td></tr><tr><th>24</th><td>24</td><td>Powder (1995)</td><td>Drama|Sci-Fi</td></tr><tr><th>25</th><td>25</td><td>Leaving Las Vegas (1995)</td><td>Drama|Romance</td></tr><tr><th>26</th><td>26</td><td>Othello (1995)</td><td>Drama</td></tr><tr><th>27</th><td>27</td><td>Now and Then (1995)</td><td>Children|Drama</td></tr><tr><th>28</th><td>28</td><td>Persuasion (1995)</td><td>Drama|Romance</td></tr><tr><th>29</th><td>29</td><td>City of Lost Children, The (Cité des enfants perdus, La) (1995)</td><td>Adventure|Drama|Fantasy|Mystery|Sci-Fi</td></tr><tr><th>30</th><td>30</td><td>Shanghai Triad (Yao a yao yao dao waipo qiao) (1995)</td><td>Crime|Drama</td></tr><tr><th>&vellip;</th><td>&vellip;</td><td>&vellip;</td><td>&vellip;</td></tr></tbody></table>"
      ],
      "text/latex": [
       "\\begin{tabular}{r|cccc}\n",
       "\t& movieId & title & genres & \\\\\n",
       "\t\\hline\n",
       "\t& Int64 & String & String & \\\\\n",
       "\t\\hline\n",
       "\t1 & 1 & Toy Story (1995) & Adventure|Animation|Children|Comedy|Fantasy & $\\dots$ \\\\\n",
       "\t2 & 2 & Jumanji (1995) & Adventure|Children|Fantasy & $\\dots$ \\\\\n",
       "\t3 & 3 & Grumpier Old Men (1995) & Comedy|Romance & $\\dots$ \\\\\n",
       "\t4 & 4 & Waiting to Exhale (1995) & Comedy|Drama|Romance & $\\dots$ \\\\\n",
       "\t5 & 5 & Father of the Bride Part II (1995) & Comedy & $\\dots$ \\\\\n",
       "\t6 & 6 & Heat (1995) & Action|Crime|Thriller & $\\dots$ \\\\\n",
       "\t7 & 7 & Sabrina (1995) & Comedy|Romance & $\\dots$ \\\\\n",
       "\t8 & 8 & Tom and Huck (1995) & Adventure|Children & $\\dots$ \\\\\n",
       "\t9 & 9 & Sudden Death (1995) & Action & $\\dots$ \\\\\n",
       "\t10 & 10 & GoldenEye (1995) & Action|Adventure|Thriller & $\\dots$ \\\\\n",
       "\t11 & 11 & American President, The (1995) & Comedy|Drama|Romance & $\\dots$ \\\\\n",
       "\t12 & 12 & Dracula: Dead and Loving It (1995) & Comedy|Horror & $\\dots$ \\\\\n",
       "\t13 & 13 & Balto (1995) & Adventure|Animation|Children & $\\dots$ \\\\\n",
       "\t14 & 14 & Nixon (1995) & Drama & $\\dots$ \\\\\n",
       "\t15 & 15 & Cutthroat Island (1995) & Action|Adventure|Romance & $\\dots$ \\\\\n",
       "\t16 & 16 & Casino (1995) & Crime|Drama & $\\dots$ \\\\\n",
       "\t17 & 17 & Sense and Sensibility (1995) & Drama|Romance & $\\dots$ \\\\\n",
       "\t18 & 18 & Four Rooms (1995) & Comedy & $\\dots$ \\\\\n",
       "\t19 & 19 & Ace Ventura: When Nature Calls (1995) & Comedy & $\\dots$ \\\\\n",
       "\t20 & 20 & Money Train (1995) & Action|Comedy|Crime|Drama|Thriller & $\\dots$ \\\\\n",
       "\t21 & 21 & Get Shorty (1995) & Comedy|Crime|Thriller & $\\dots$ \\\\\n",
       "\t22 & 22 & Copycat (1995) & Crime|Drama|Horror|Mystery|Thriller & $\\dots$ \\\\\n",
       "\t23 & 23 & Assassins (1995) & Action|Crime|Thriller & $\\dots$ \\\\\n",
       "\t24 & 24 & Powder (1995) & Drama|Sci-Fi & $\\dots$ \\\\\n",
       "\t25 & 25 & Leaving Las Vegas (1995) & Drama|Romance & $\\dots$ \\\\\n",
       "\t26 & 26 & Othello (1995) & Drama & $\\dots$ \\\\\n",
       "\t27 & 27 & Now and Then (1995) & Children|Drama & $\\dots$ \\\\\n",
       "\t28 & 28 & Persuasion (1995) & Drama|Romance & $\\dots$ \\\\\n",
       "\t29 & 29 & City of Lost Children, The (Cité des enfants perdus, La) (1995) & Adventure|Drama|Fantasy|Mystery|Sci-Fi & $\\dots$ \\\\\n",
       "\t30 & 30 & Shanghai Triad (Yao a yao yao dao waipo qiao) (1995) & Crime|Drama & $\\dots$ \\\\\n",
       "\t$\\dots$ & $\\dots$ & $\\dots$ & $\\dots$ &  \\\\\n",
       "\\end{tabular}\n"
      ],
      "text/plain": [
       "\u001b[1m10473×7 DataFrame\u001b[0m\n",
       "\u001b[1m   Row \u001b[0m│\u001b[1m movieId \u001b[0m\u001b[1m title                             \u001b[0m\u001b[1m genres                   \u001b[0m ⋯\n",
       "\u001b[1m       \u001b[0m│\u001b[90m Int64   \u001b[0m\u001b[90m String                            \u001b[0m\u001b[90m String                   \u001b[0m ⋯\n",
       "───────┼────────────────────────────────────────────────────────────────────────\n",
       "     1 │       1  Toy Story (1995)                   Adventure|Animation|Child ⋯\n",
       "     2 │       2  Jumanji (1995)                     Adventure|Children|Fantas\n",
       "     3 │       3  Grumpier Old Men (1995)            Comedy|Romance\n",
       "     4 │       4  Waiting to Exhale (1995)           Comedy|Drama|Romance\n",
       "     5 │       5  Father of the Bride Part II (199…  Comedy                    ⋯\n",
       "     6 │       6  Heat (1995)                        Action|Crime|Thriller\n",
       "     7 │       7  Sabrina (1995)                     Comedy|Romance\n",
       "     8 │       8  Tom and Huck (1995)                Adventure|Children\n",
       "     9 │       9  Sudden Death (1995)                Action                    ⋯\n",
       "    10 │      10  GoldenEye (1995)                   Action|Adventure|Thriller\n",
       "    11 │      11  American President, The (1995)     Comedy|Drama|Romance\n",
       "   ⋮   │    ⋮                     ⋮                                  ⋮         ⋱\n",
       " 10464 │  118700  Selma (2014)                       Drama\n",
       " 10465 │  118702  Unbroken (2014)                    Drama|War                 ⋯\n",
       " 10466 │  118900  Wild (2014)                        Drama\n",
       " 10467 │  118985  Big Eyes (2014)                    Drama\n",
       " 10468 │  118997  Into the Woods (2014)              Children|Comedy|Fantasy|M\n",
       " 10469 │  119141  The Interview (2014)               Action|Comedy             ⋯\n",
       " 10470 │  119145  Kingsman: The Secret Service (20…  Action|Adventure|Comedy|C\n",
       " 10471 │  119155  Night at the Museum: Secret of t…  Adventure|Children|Comedy\n",
       " 10472 │  120635  Taken 3 (2015)                     Action|Crime|Thriller\n",
       " 10473 │  125916  Fifty Shades of Grey (2015)        Drama                     ⋯\n",
       "\u001b[36m                                                5 columns and 10452 rows omitted\u001b[0m"
      ]
     },
     "execution_count": 26,
     "metadata": {},
     "output_type": "execute_result"
    }
   ],
   "source": [
    "data_file = \"movie_info.jld2\"\n",
    "movie_info_df = load(data_file)[\"movie_info_df\"]"
   ]
  },
  {
   "cell_type": "code",
   "execution_count": 27,
   "metadata": {},
   "outputs": [
    {
     "data": {
      "text/plain": [
       "7-element Array{String,1}:\n",
       " \"movieId\"\n",
       " \"title\"\n",
       " \"genres\"\n",
       " \"genre_set\"\n",
       " \"vec\"\n",
       " \"year\"\n",
       " \"rating\""
      ]
     },
     "execution_count": 27,
     "metadata": {},
     "output_type": "execute_result"
    }
   ],
   "source": [
    "n = size(movie_info_df,1)\n",
    "names(movie_info_df)"
   ]
  },
  {
   "cell_type": "markdown",
   "metadata": {},
   "source": [
    "In our dataset, we have 10,473 movies, each with one of the following values:\n",
    "\n",
    "- `movieId`: unique identifier of the movie (an integer)\n",
    "- `title`: the title of the movie (string)\n",
    "- `genres`: a string of genres (string, not parsed)\n",
    "- `genre_list`: a list of genres (array of strings, parsed)\n",
    "- `vec`: a low-dimensional representation of the movie based on user ratings (array)\n",
    "- `year`: the year the movie was released (int)\n",
    "- `rating`: the average IMDb rating (float)\n",
    "\n",
    "### Constructing Objective Function\n",
    "\n",
    "Our goal will be to use the following objective function:\n",
    "\n",
    "$$\n",
    "f(S) \n",
    "= \\frac{1}{n} \\left[ \n",
    "    \\sum_{i \\in \\mathcal{N}} \\sum_{j \\in S} s_{i,j} \n",
    "    - \\sum_{i \\in S} \\sum_{j \\in S} s_{i,j} \n",
    "\\right] \\enspace,\n",
    "$$\n",
    "\n",
    "where the similarity scores $s_{i,j}$ are defined as\n",
    "\n",
    "$$\n",
    "s_{i,j} = \\exp \\left( - \\sigma^2 (1 - \\cos(v_i, v_j)) \\right) \\enspace,\n",
    "$$\n",
    "\n",
    "where $v_i$ is the low-dimensional representation vector of movie $i$, $\\cos(v_i,v_j) = \\langle v_i, v_j \\rangle / (\\| v_i \\| \\|v_j \\|)$ is the cosine similarity and $\\sigma > 0$ is a user-defined bandwidth parameter which controls the decay of this similarity.\n",
    "We will set $\\sigma = 1.0$.\n",
    "\n",
    "Let's begin by constructing these similarities."
   ]
  },
  {
   "cell_type": "code",
   "execution_count": 28,
   "metadata": {},
   "outputs": [
    {
     "data": {
      "text/plain": [
       "compute_similarity_array (generic function with 1 method)"
      ]
     },
     "execution_count": 28,
     "metadata": {},
     "output_type": "execute_result"
    }
   ],
   "source": [
    "function ij_to_ind(i::Integer, j::Integer, n::Integer)\n",
    "\n",
    "    # ensure that i < j\n",
    "    if i > j\n",
    "        i,j = j,i\n",
    "    end\n",
    "\n",
    "    # map (i,j) to the correct entry in the upper triangular array\n",
    "    return (i-1)*n - div(i*(i-1),2) + j\n",
    "end\n",
    "\n",
    "function get_similarity(similarity_array::Array{<:AbstractFloat}, i::Integer, j::Integer, n::Integer)\n",
    "    ind = ij_to_ind(i,j,n)\n",
    "    return similarity_array[ind]\n",
    "end\n",
    "\n",
    "function compute_similarity_array(vec_list; sigma::AbstractFloat=1.0)\n",
    "\n",
    "    # get dimensions\n",
    "    n = length(vec_list)\n",
    "\n",
    "    # initialize array of pair-wise similarities\n",
    "    n_pairs = div(n*(n+1), 2)\n",
    "    similarity_array = zeros(n_pairs)\n",
    "\n",
    "    # fill in the pair-wise similarities\n",
    "    ind = 1\n",
    "    for i=1:n\n",
    "        vi = vec_list[i]\n",
    "        for j=i:n\n",
    "            vj = vec_list[j]\n",
    "            # similarity_array[ind] = exp(- lambda^2 * sum( (vi - vj).^2 ))\n",
    "            similarity_array[ind] = exp(- sigma^2 * ( 1 - (dot(vi, vj) / (norm(vi) * norm(vj))) ) )\n",
    "            ind += 1\n",
    "        end\n",
    "    end\n",
    "\n",
    "    return similarity_array\n",
    "end"
   ]
  },
  {
   "cell_type": "code",
   "execution_count": 29,
   "metadata": {},
   "outputs": [
    {
     "data": {
      "text/plain": [
       "54847101-element Array{Float64,1}:\n",
       " 1.0000000000000002\n",
       " 0.8942586417274286\n",
       " 0.8566635893804541\n",
       " 0.7860967682077294\n",
       " 0.8412857663737342\n",
       " 0.851589781648117\n",
       " 0.8759280019736603\n",
       " 0.8205142510054846\n",
       " 0.7507813993489272\n",
       " 0.8915876487739497\n",
       " 0.9206211373091059\n",
       " 0.6848410853940632\n",
       " 0.8993970748546163\n",
       " ⋮\n",
       " 0.8110426760199305\n",
       " 0.5895017874717636\n",
       " 0.9999999999999997\n",
       " 0.8621615954518614\n",
       " 0.7942023015157453\n",
       " 0.5608411784112787\n",
       " 0.9999999999999999\n",
       " 0.8200394174170812\n",
       " 0.6345993452545691\n",
       " 0.9999999999999998\n",
       " 0.6917375229176626\n",
       " 1.0000000000000002"
      ]
     },
     "execution_count": 29,
     "metadata": {},
     "output_type": "execute_result"
    }
   ],
   "source": [
    "similarity_array = compute_similarity_array(Array(movie_info_df[!,:vec]))"
   ]
  },
  {
   "cell_type": "markdown",
   "metadata": {},
   "source": [
    "Next, let's construct the marginal gain oracle for this objective function."
   ]
  },
  {
   "cell_type": "code",
   "execution_count": 30,
   "metadata": {},
   "outputs": [
    {
     "data": {
      "text/plain": [
       "dispersion_diff (generic function with 1 method)"
      ]
     },
     "execution_count": 30,
     "metadata": {},
     "output_type": "execute_result"
    }
   ],
   "source": [
    "function dispersion_diff(elm::Integer, sol::Set{<:Integer}, similarity_array::Array{<:AbstractFloat}, n::Integer)\n",
    "\n",
    "    if elm in sol\n",
    "        return 0.0\n",
    "    else \n",
    "\n",
    "        # compute coverage and diversity terms\n",
    "        coverage_term = sum([ get_similarity(similarity_array, i, elm, n) for i=1:n ])\n",
    "        diversity_term = ( 2 * sum([ get_similarity(similarity_array, i, elm, n) for i in sol]) + get_similarity(similarity_array, elm, elm, n))\n",
    "        return (coverage_term - diversity_term) / n\n",
    "    end\n",
    "end"
   ]
  },
  {
   "cell_type": "code",
   "execution_count": 31,
   "metadata": {},
   "outputs": [
    {
     "data": {
      "text/plain": [
       "f_diff (generic function with 1 method)"
      ]
     },
     "execution_count": 31,
     "metadata": {},
     "output_type": "execute_result"
    }
   ],
   "source": [
    "f_diff(elm, sol) = dispersion_diff(elm, sol, similarity_array, n)"
   ]
  },
  {
   "cell_type": "markdown",
   "metadata": {},
   "source": [
    "### Constructing Constraints\n",
    "\n",
    "Next, we will consider the following $2$-extendible system: a solution $S$ is independent \n",
    "\n",
    "To construct constraints, we use release date constraint (independence system) and a rating budget (knapsack constraint), defined as follows.\n",
    "For each movie $e \\in \\mathcal{N}$, let $y_e$ denote the release year of the movie.\n",
    "We define the \\emph{release date constraint} $(\\mathcal{N}, \\mathcal{I})$, where $S \\in \\mathcal{I}$ if\n",
    "\n",
    "$$\n",
    "|y_e - y_u| \\geq 1 \\text{ for all pairs } e,u \\in S \\enspace. \n",
    "$$\n",
    "\n",
    "In other words, no two movies in a feasible solution set may be released in the same year.\n",
    "This independence set is $2$-extendible, as adding a movie $e$ to the current solution requires the removal of up to $2$ other movies  that already belong to the set: one that appears up to a year after $y_e$ and one that appears up to a year before $y_e$.\n",
    "\n",
    "Below is an independence oracle for the release date constraint:"
   ]
  },
  {
   "cell_type": "code",
   "execution_count": 32,
   "metadata": {},
   "outputs": [
    {
     "data": {
      "text/plain": [
       "years_apart_feasible (generic function with 1 method)"
      ]
     },
     "execution_count": 32,
     "metadata": {},
     "output_type": "execute_result"
    }
   ],
   "source": [
    "function years_apart_feasible(sol::Set{<:Integer}, cardinality_limit::Integer, years_apart::Integer, date_list::Array{<:Integer})\n",
    "\n",
    "    if length(sol) > cardinality_limit\n",
    "        return false \n",
    "    end\n",
    "\n",
    "    if years_apart > 0\n",
    "        sol_dates = sort([date_list[elm] for elm in sol])\n",
    "        for i=1:(length(sol)-1)\n",
    "            if sol_dates[i+1] - sol_dates[i] < years_apart\n",
    "                return false\n",
    "            end\n",
    "        end\n",
    "    end\n",
    "\n",
    "    return true\n",
    "end"
   ]
  },
  {
   "cell_type": "code",
   "execution_count": 33,
   "metadata": {},
   "outputs": [
    {
     "data": {
      "text/plain": [
       "ind_add_oracle (generic function with 1 method)"
      ]
     },
     "execution_count": 33,
     "metadata": {},
     "output_type": "execute_result"
    }
   ],
   "source": [
    "date_list = Array(movie_info_df[!, :year])\n",
    "\n",
    "card_limit = 100\n",
    "years_apart = 1\n",
    "\n",
    "ind_add_oracle(elm, sol) = years_apart_feasible(union(sol, elm), card_limit, years_apart, date_list)"
   ]
  },
  {
   "cell_type": "markdown",
   "metadata": {},
   "source": [
    "For each movie $e \\in \\mathcal{N}$, we let $r_e$ denote the rating of the movie, according to the IMDb.\n",
    "The ratings take real values between $1$ and $10$.\n",
    "The *rating budget constraint* is that\n",
    "\n",
    "$$\n",
    "\\sum_{e \\in S} \\max (r_e - 5.0, 0) \\leq \\beta \\enspace,\n",
    "$$\n",
    "where $\\beta$ is a user-defined *rating budget*.\n",
    "A set $S$ satisfies the rating budget constraint so long as it does not contain too many highly rated movies; indeed, this constraint does not penalize movies which have a rating less than $5.0$.\n",
    "Observe that the rating budget is a knapsack constraint with coefficients $c_e =  \\max (r_e - 5.0, 0)$.\n",
    "We will set $\\beta = 80$.\n",
    "\n",
    "Below is code that generates the knapsack constraints."
   ]
  },
  {
   "cell_type": "code",
   "execution_count": 34,
   "metadata": {},
   "outputs": [
    {
     "data": {
      "text/plain": [
       "1×10473 Array{Float64,2}:\n",
       " 0.0253846  0.0153846  0.0130769  0.00692308  …  0.00923077  0.00769231  0.0"
      ]
     },
     "execution_count": 34,
     "metadata": {},
     "output_type": "execute_result"
    }
   ],
   "source": [
    "rating_array = Array(movie_info_df[!, :rating])\n",
    "\n",
    "budget = 130\n",
    "rating_thresh = 5.0\n",
    "knapsack_constraints = max.(reshape(rating_array, (1,n)) .- rating_thresh, 0.0) / budget"
   ]
  },
  {
   "cell_type": "code",
   "execution_count": 35,
   "metadata": {},
   "outputs": [
    {
     "data": {
      "text/plain": [
       "10473-element Array{Int64,1}:\n",
       "     1\n",
       "     2\n",
       "     3\n",
       "     4\n",
       "     5\n",
       "     6\n",
       "     7\n",
       "     8\n",
       "     9\n",
       "    10\n",
       "    11\n",
       "    12\n",
       "    13\n",
       "     ⋮\n",
       " 10462\n",
       " 10463\n",
       " 10464\n",
       " 10465\n",
       " 10466\n",
       " 10467\n",
       " 10468\n",
       " 10469\n",
       " 10470\n",
       " 10471\n",
       " 10472\n",
       " 10473"
      ]
     },
     "execution_count": 35,
     "metadata": {},
     "output_type": "execute_result"
    }
   ],
   "source": [
    "gnd = collect(1:n)"
   ]
  },
  {
   "cell_type": "markdown",
   "metadata": {},
   "source": [
    "### Running the Algorithms\n",
    "\n",
    "Now let's run the algorithms.\n",
    "Since this example is larger, we will set the verbosity to lower levels.\n",
    "\n",
    "First up, the greedy algorithm."
   ]
  },
  {
   "cell_type": "code",
   "execution_count": 36,
   "metadata": {},
   "outputs": [
    {
     "data": {
      "text/plain": [
       "(Set([4991, 2613, 1920, 5903, 7012, 6116, 5126, 5602, 3025, 5177  …  5828, 9226, 2084, 2603, 6592, 6606, 331, 5963, 6320, 4637]), 62.96794086462275, 11584, 21476, false)"
      ]
     },
     "execution_count": 36,
     "metadata": {},
     "output_type": "execute_result"
    }
   ],
   "source": [
    "sol, f_val, oracle_calls, _ = greedy(gnd, f_diff, ind_add_oracle, knapsack_constraints=knapsack_constraints)"
   ]
  },
  {
   "cell_type": "markdown",
   "metadata": {},
   "source": [
    "Next, let's run the Repeated Greedy algorithm."
   ]
  },
  {
   "cell_type": "code",
   "execution_count": 37,
   "metadata": {},
   "outputs": [
    {
     "name": "stdout",
     "output_type": "stream",
     "text": [
      "Running repeated greedys\n",
      "============================\n",
      "Ground set has 10473 elements\n",
      "Independence system is 2-system\n",
      "There are 1 knapsack constraints\n",
      "\n",
      "Constructing 2 solutions\n",
      "A grid search for the best density ratio will be run with the parameters:\n",
      "\tbeta scaling term is 0.11076923076923079\n",
      "\terror term is 0.1\n",
      "\tbound on largest set is 10473\n",
      "Obtained solution has value 63.89867855166622\n",
      "Required 30340 function evaluations and 163261 independence queries\n"
     ]
    },
    {
     "data": {
      "text/plain": [
       "(Set([9568, 9973, 4674, 2785, 3861, 6165, 3728, 5984, 486, 6560  …  4442, 10056, 6531, 4866, 1458, 6663, 7427, 9842, 1915, 1921]), 63.89867855166622, 30340, 163261)"
      ]
     },
     "execution_count": 37,
     "metadata": {},
     "output_type": "execute_result"
    }
   ],
   "source": [
    "num_sol = 2\n",
    "epsilon = 0.1\n",
    "\n",
    "sol, f_val, oracle_calls, _ = repeated_greedy(gnd, f_diff, ind_add_oracle, knapsack_constraints=knapsack_constraints, num_sol=num_sol, epsilon=epsilon, k=2)"
   ]
  },
  {
   "cell_type": "markdown",
   "metadata": {},
   "source": [
    "We see that the Repeated Greedy algorithm achieves a better value, but not terribly better."
   ]
  },
  {
   "cell_type": "markdown",
   "metadata": {},
   "source": [
    "## The End\n",
    "\n",
    "This marks the end of the tutorial! \n",
    "Hopefully, you understand better how to run the greedy-based optimization algorithms in our `SubmodularGreedy.jl` package.\n",
    "The key in using this package is creating the marginal gain and marginal independence oracles -- after that, it's mostly plug and play.\n",
    "\n",
    "If you have questions about this package or comments on possible improvements, please feel free to reach out to me, Christopher Harshaw.\n",
    "My email is `christopher [dot] harshaw [at] yale.edu` and I would be happy to hear from you."
   ]
  }
 ],
 "metadata": {
  "kernelspec": {
   "display_name": "Julia 1.5.3",
   "language": "julia",
   "name": "julia-1.5"
  },
  "language_info": {
   "file_extension": ".jl",
   "mimetype": "application/julia",
   "name": "julia",
   "version": "1.5.3"
  }
 },
 "nbformat": 4,
 "nbformat_minor": 4
}
